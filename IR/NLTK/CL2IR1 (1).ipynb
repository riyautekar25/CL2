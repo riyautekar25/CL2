{
  "nbformat": 4,
  "nbformat_minor": 0,
  "metadata": {
    "colab": {
      "provenance": []
    },
    "kernelspec": {
      "name": "python3",
      "display_name": "Python 3"
    },
    "language_info": {
      "name": "python"
    }
  },
  "cells": [
    {
      "cell_type": "code",
      "source": [
        "import nltk\n",
        "nltk.download('punkt_tab')"
      ],
      "metadata": {
        "colab": {
          "base_uri": "https://localhost:8080/"
        },
        "id": "BUZOF3voqzqx",
        "outputId": "779f3940-e7e4-42c0-e19c-9d8ad47f2ea1"
      },
      "execution_count": 7,
      "outputs": [
        {
          "output_type": "stream",
          "name": "stderr",
          "text": [
            "[nltk_data] Downloading package punkt_tab to /root/nltk_data...\n",
            "[nltk_data]   Unzipping tokenizers/punkt_tab.zip.\n"
          ]
        },
        {
          "output_type": "execute_result",
          "data": {
            "text/plain": [
              "True"
            ]
          },
          "metadata": {},
          "execution_count": 7
        }
      ]
    },
    {
      "cell_type": "code",
      "execution_count": 1,
      "metadata": {
        "id": "5f0vj6MxxWrh"
      },
      "outputs": [],
      "source": [
        "import nltk\n",
        "from nltk.corpus import stopwords\n",
        "from nltk.tokenize import word_tokenize\n",
        "from nltk.stem import PorterStemmer"
      ]
    },
    {
      "cell_type": "code",
      "source": [
        "# Download the necessary NLTK data files\n",
        "nltk.download('stopwords')"
      ],
      "metadata": {
        "colab": {
          "base_uri": "https://localhost:8080/"
        },
        "id": "cJLXuCYd21gy",
        "outputId": "0d56bc8d-609b-4ca5-c484-425f5138064b"
      },
      "execution_count": 2,
      "outputs": [
        {
          "output_type": "stream",
          "name": "stderr",
          "text": [
            "[nltk_data] Downloading package stopwords to /root/nltk_data...\n",
            "[nltk_data]   Unzipping corpora/stopwords.zip.\n"
          ]
        },
        {
          "output_type": "execute_result",
          "data": {
            "text/plain": [
              "True"
            ]
          },
          "metadata": {},
          "execution_count": 2
        }
      ]
    },
    {
      "cell_type": "code",
      "source": [
        "# Example text\n",
        "# text = \"\"\"The sun dipped below the horizon, casting a warm glow across the tranquil evening. Birds chirped their final melodies\n",
        "# before settling into the calm of the approaching night. A gentle breeze rustled the leaves, bringing with it the promise of a\n",
        "# peaceful and restful night ahead.\"\"\"\n",
        "\n",
        "with open('/content/text.txt', 'r') as file:\n",
        "        text = file.read()"
      ],
      "metadata": {
        "id": "xMLVuuXT2_LD"
      },
      "execution_count": 3,
      "outputs": []
    },
    {
      "cell_type": "code",
      "source": [
        "# Tokenize\n",
        "words = word_tokenize(text)\n",
        "\n",
        "# to lower case\n",
        "words = [word.lower() for word in words]\n",
        "\n",
        "# punctuation removal\n",
        "words = [word for word in words if word.isalnum()]\n",
        "\n",
        "# stop words removal\n",
        "stop_words = set(stopwords.words('english'))\n",
        "words = [word for word in words if word not in stop_words]\n",
        "\n",
        "# stemming\n",
        "stemmed_words = [print(PorterStemmer().stem(word)) for word in words]\n",
        "\n",
        "# processed_text = ' '.join(stemmed_words)"
      ],
      "metadata": {
        "colab": {
          "base_uri": "https://localhost:8080/"
        },
        "id": "4i_GcxktB5qA",
        "outputId": "e894ab3e-62e5-45df-d018-d6024a325f30"
      },
      "execution_count": 8,
      "outputs": [
        {
          "output_type": "stream",
          "name": "stdout",
          "text": [
            "sun\n",
            "dip\n",
            "horizon\n",
            "cast\n",
            "warm\n",
            "glow\n",
            "across\n",
            "tranquil\n",
            "even\n",
            "bird\n",
            "chirp\n",
            "final\n",
            "melodi\n",
            "settl\n",
            "calm\n",
            "approach\n",
            "night\n",
            "gentl\n",
            "breez\n",
            "rustl\n",
            "leav\n",
            "bring\n",
            "promis\n",
            "peac\n",
            "rest\n",
            "night\n",
            "ahead\n"
          ]
        }
      ]
    },
    {
      "cell_type": "code",
      "source": [
        "import nltk\n",
        "nltk.download('wordnet')"
      ],
      "metadata": {
        "colab": {
          "base_uri": "https://localhost:8080/"
        },
        "id": "8k-weN-WsRz2",
        "outputId": "b428bd84-fdc1-4d6d-98af-a1c8d90ef79c"
      },
      "execution_count": 13,
      "outputs": [
        {
          "output_type": "stream",
          "name": "stderr",
          "text": [
            "[nltk_data] Downloading package wordnet to /root/nltk_data...\n"
          ]
        },
        {
          "output_type": "execute_result",
          "data": {
            "text/plain": [
              "True"
            ]
          },
          "metadata": {},
          "execution_count": 13
        }
      ]
    },
    {
      "cell_type": "code",
      "source": [
        "print(\"Original Text:\\n\", text)\n",
        "# print(\"\\nProcessed Text:\\n\", processed_text)"
      ],
      "metadata": {
        "colab": {
          "base_uri": "https://localhost:8080/"
        },
        "id": "V7dNNug53D6y",
        "outputId": "85fa9b43-4470-4260-b460-26556a881280"
      },
      "execution_count": 9,
      "outputs": [
        {
          "output_type": "stream",
          "name": "stdout",
          "text": [
            "Original Text:\n",
            " The sun dipped below the horizon, casting a warm glow across the tranquil evening. Birds chirped their final melodies before settling into the calm of the approaching night. A gentle breeze rustled the leaves, bringing with it the promise of a peaceful and restful night ahead.\n"
          ]
        }
      ]
    },
    {
      "cell_type": "code",
      "source": [
        "from nltk.stem import WordNetLemmatizer\n",
        "lemma = WordNetLemmatizer()"
      ],
      "metadata": {
        "id": "-9HLNHW8sIG1"
      },
      "execution_count": 11,
      "outputs": []
    },
    {
      "cell_type": "code",
      "source": [
        "lemmatized_words = []\n",
        "for word in words:\n",
        "  lemmatized = lemma.lemmatize(word)\n",
        "  lemmatized_words.append(lemmatized)\n",
        "lemmatized_words"
      ],
      "metadata": {
        "colab": {
          "base_uri": "https://localhost:8080/"
        },
        "id": "BIX9feX6q-ZO",
        "outputId": "4f2ade84-9fb3-4411-f74c-b011a549656a"
      },
      "execution_count": 14,
      "outputs": [
        {
          "output_type": "execute_result",
          "data": {
            "text/plain": [
              "['sun',\n",
              " 'dipped',\n",
              " 'horizon',\n",
              " 'casting',\n",
              " 'warm',\n",
              " 'glow',\n",
              " 'across',\n",
              " 'tranquil',\n",
              " 'evening',\n",
              " 'bird',\n",
              " 'chirped',\n",
              " 'final',\n",
              " 'melody',\n",
              " 'settling',\n",
              " 'calm',\n",
              " 'approaching',\n",
              " 'night',\n",
              " 'gentle',\n",
              " 'breeze',\n",
              " 'rustled',\n",
              " 'leaf',\n",
              " 'bringing',\n",
              " 'promise',\n",
              " 'peaceful',\n",
              " 'restful',\n",
              " 'night',\n",
              " 'ahead']"
            ]
          },
          "metadata": {},
          "execution_count": 14
        }
      ]
    },
    {
      "cell_type": "code",
      "source": [],
      "metadata": {
        "id": "4SF8Dvykr_4z"
      },
      "execution_count": null,
      "outputs": []
    }
  ]
}